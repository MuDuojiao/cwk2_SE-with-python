{
 "cells": [
  {
   "cell_type": "markdown",
   "id": "1ae2b2cf",
   "metadata": {},
   "source": [
    "# Travelling to conferences\n",
    "\n",
    "Academics like meeting up with their colleagues around the world - but this comes at an environmental cost! In this notebook we'll try and minimise this cost by finding the best place to host a conference."
   ]
  },
  {
   "cell_type": "markdown",
   "id": "5e08c26a",
   "metadata": {},
   "source": [
    "We want to work out how far it is to travel from somewhere to a conference. We'll start out with two classes, one representing a single city, and one representing a collection of cities. An outline of these classes is given in `cities.py` - it is important to preserve the signatures of the methods given by the outline!"
   ]
  },
  {
   "cell_type": "code",
   "execution_count": 3,
   "id": "7ff9eb6c",
   "metadata": {
    "collapsed": false,
    "jupyter": {
     "outputs_hidden": false
    }
   },
   "outputs": [
    {
     "ename": "ModuleNotFoundError",
     "evalue": "No module named 'cities'",
     "output_type": "error",
     "traceback": [
      "\u001b[0;31m---------------------------------------------------------------------------\u001b[0m",
      "\u001b[0;31mModuleNotFoundError\u001b[0m                       Traceback (most recent call last)",
      "Cell \u001b[0;32mIn [3], line 1\u001b[0m\n\u001b[0;32m----> 1\u001b[0m \u001b[39mfrom\u001b[39;00m \u001b[39mcities\u001b[39;00m \u001b[39mimport\u001b[39;00m City, CityCollection\n\u001b[1;32m      2\u001b[0m \u001b[39mfrom\u001b[39;00m \u001b[39mutils\u001b[39;00m \u001b[39mimport\u001b[39;00m read_attendees_file\n\u001b[1;32m      4\u001b[0m conference_city \u001b[39m=\u001b[39m City(\u001b[39m'\u001b[39m\u001b[39mSan Francisco\u001b[39m\u001b[39m'\u001b[39m, \u001b[39m'\u001b[39m\u001b[39mUnited States\u001b[39m\u001b[39m'\u001b[39m, \u001b[39m0\u001b[39m, \u001b[39m37.7792808\u001b[39m, \u001b[39m-\u001b[39m\u001b[39m122.4192363\u001b[39m)\n",
      "\u001b[0;31mModuleNotFoundError\u001b[0m: No module named 'cities'"
     ]
    }
   ],
   "source": [
    "from cities import City, CityCollection\n",
    "from utils import read_attendees_file\n",
    "\n",
    "conference_city = City('San Francisco', 'United States', 0, 37.7792808, -122.4192363)"
   ]
  },
  {
   "cell_type": "markdown",
   "id": "53c9b685",
   "metadata": {},
   "source": [
    "**Read in list of attendees in `attendee_locations.csv` file**"
   ]
  },
  {
   "cell_type": "code",
   "execution_count": null,
   "id": "e4a6569a",
   "metadata": {
    "collapsed": false,
    "jupyter": {
     "outputs_hidden": false
    }
   },
   "outputs": [],
   "source": [
    "cities = read_attendees_file('attendee_locations.csv')"
   ]
  },
  {
   "cell_type": "markdown",
   "id": "1a067826",
   "metadata": {},
   "source": [
    "**Calculate number of atendees.**"
   ]
  },
  {
   "cell_type": "code",
   "execution_count": null,
   "id": "63472450",
   "metadata": {
    "collapsed": false,
    "jupyter": {
     "outputs_hidden": false
    }
   },
   "outputs": [],
   "source": [
    "cities.total_attendees()"
   ]
  },
  {
   "cell_type": "markdown",
   "id": "d4e954d5",
   "metadata": {},
   "source": [
    "**Calculate total distance travelled.**"
   ]
  },
  {
   "cell_type": "code",
   "execution_count": null,
   "id": "6a4246ca",
   "metadata": {
    "collapsed": false,
    "jupyter": {
     "outputs_hidden": false
    }
   },
   "outputs": [],
   "source": [
    "total_distance = cities.total_distance_travel_to(conference_city)\n",
    "print(f\"Total distance travelled: {total_distance:.0f} km\")"
   ]
  },
  {
   "cell_type": "markdown",
   "id": "019c1e7e",
   "metadata": {},
   "source": [
    "**Plot distance travelled broken down by country**"
   ]
  },
  {
   "cell_type": "code",
   "execution_count": null,
   "id": "4f10acdf",
   "metadata": {
    "collapsed": false,
    "jupyter": {
     "outputs_hidden": false
    }
   },
   "outputs": [],
   "source": [
    "cities.plot_top_emitters(conference_city, 5)"
   ]
  },
  {
   "cell_type": "markdown",
   "id": "336340e0",
   "metadata": {},
   "source": [
    "**Work out the worst and best city to host the conference**"
   ]
  },
  {
   "cell_type": "code",
   "execution_count": null,
   "id": "a30b2398",
   "metadata": {
    "collapsed": false,
    "jupyter": {
     "outputs_hidden": false
    }
   },
   "outputs": [],
   "source": [
    "co2_by_city = cities.sorted_by_emissions()\n",
    "print(f\"The best city to host the conference is {co2_by_city[0][0]} with {round(co2_by_city[0][1]/1_000)} tonnes of CO2\")\n",
    "print(f\"... and the worse is {co2_by_city[-1][0]} with {round(co2_by_city[-1][1]/1_000)} tonnes of CO2\")"
   ]
  }
 ],
 "metadata": {
  "kernelspec": {
   "display_name": "Python 3.8.9 64-bit",
   "language": "python",
   "name": "python3"
  },
  "language_info": {
   "codemirror_mode": {
    "name": "ipython",
    "version": 3
   },
   "file_extension": ".py",
   "mimetype": "text/x-python",
   "name": "python",
   "nbconvert_exporter": "python",
   "pygments_lexer": "ipython3",
   "version": "3.8.9"
  },
  "name": "travelling_to_conferences.ipynb",
  "vscode": {
   "interpreter": {
    "hash": "aee8b7b246df8f9039afb4144a1f6fd8d2ca17a180786b69acc140d282b71a49"
   }
  }
 },
 "nbformat": 4,
 "nbformat_minor": 5
}
